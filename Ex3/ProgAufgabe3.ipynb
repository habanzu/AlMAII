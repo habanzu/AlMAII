{
 "cells": [
  {
   "cell_type": "markdown",
   "metadata": {},
   "source": [
    "##  Programmieraufgabe 3 "
   ]
  },
  {
   "cell_type": "markdown",
   "metadata": {},
   "source": [
    "<span style=\"color:red; font-weight: bold\">Wichtig: Damit alle ben&ouml;tigten Pakete richtig eingebunden werden, f&uuml;hren Sie die n&auml;chste Zelle einmal aus, sobald Sie das Notebook neu &ouml;ffnen.</span>"
   ]
  },
  {
   "cell_type": "code",
   "execution_count": 1,
   "metadata": {},
   "outputs": [],
   "source": [
    "# some setup\n",
    "%matplotlib inline\n",
    "import numpy as np # makes numpy routines and data types available as np.[name ouf routine or data type]\n",
    "import matplotlib.pyplot as plt # makes plotting command available as plot.[name of command]\n",
    "\n",
    "from ipywidgets import interactive\n",
    "import random"
   ]
  },
  {
   "cell_type": "markdown",
   "metadata": {},
   "source": [
    "## Zuf&auml;llige Teilmengen\n",
    "\n",
    "a) Implementieren Sie einen Algorithmus, der eine (pseudo)zuf&auml;llige\n",
    "$n$-elementige Teilmenge aus der Menge $\\{1,\\ldots,m\\}$ ausw&auml;hlt. \n",
    "Die Teilmenge kann als Liste gespeichert werden, und soll &uuml;ber eine Funktion $\\texttt{rsubset[m,n]}$ \n",
    "abrufbar sein.\n",
    "\n",
    "Hinweis: Erstellen Sie zuerst die Liste mit den Zahlen $1$ bis $m$. Um einen zuf&auml;lligen Element der Liste mit der Funktion $\\texttt{random}.\\texttt{choice(Liste)}$. Um einen Element $z$ aus einer Liste $\\texttt{Liste}$ zu entfernen, benutzen Sie $\\texttt{Liste}.\\texttt{remove(z)}$."
   ]
  },
  {
   "cell_type": "code",
   "execution_count": 2,
   "metadata": {},
   "outputs": [],
   "source": [
    "# Fuegen Sie hier Ihre Loesung ein."
   ]
  },
  {
   "cell_type": "markdown",
   "metadata": {
    "collapsed": true
   },
   "source": [
    "b) In einer Urne befinden sich wieder $m$ Kugeln, wobei nun $r$ Kugeln rot und die restlichen\n",
    "schwarz sind. Aus dieser Urne werden diesmal $n$ Stichproben ohne Zur&uuml;ucklegen entnommen.\n",
    "Die Verteilung der roten Kugeln unter den $n$ gezogenen Kugeln wird nun durch die\n",
    "hypergeometrische Verteilung mit Parameter $m$, $r$ und $n$ beschrieben.\n",
    "\n",
    "Verwenden Sie die Funktion $\\texttt{rsubset[m,n]}$ \n",
    "um eine Funktion $\\texttt{rhypgeom[m,r,n]}$ zu\n",
    "definieren, die eine Stichprobe von der hypergeometrischen Verteilung mit Parametern\n",
    "$m$, $r$ und $n$ erzeugt."
   ]
  },
  {
   "cell_type": "code",
   "execution_count": 3,
   "metadata": {},
   "outputs": [],
   "source": [
    "# Fuegen Sie hier Ihre Loesung ein."
   ]
  },
  {
   "cell_type": "markdown",
   "metadata": {},
   "source": [
    "c) W&auml;hlen Sie $N$ Zahlen durch $\\texttt{rhypgeom[m,r,n]}$ und erzeugen Sie einen Histogram der empirische Verteilung. Die Parametern $m,r,n$ und $N$ sollten als Variablen am Anfang definiert. Plotten Sie es f&uuml;r $m=30$, $r=10$, $n=20$ and $N=1000$"
   ]
  },
  {
   "cell_type": "code",
   "execution_count": 1,
   "metadata": {},
   "outputs": [],
   "source": [
    "# Fuegen Sie hier Ihre Loesung ein."
   ]
  },
  {
   "cell_type": "markdown",
   "metadata": {},
   "source": [
    "c) Obwohl jede $n$-elementige Teilmenge mit derselben Wahrscheinlichkeit auftritt, empfindet man Mengen $\\omega \\subset \\{1,2,\\ldots,m\\}$, die viele aufeinander folgende Zahlen enthalten, als wenige \"zuf&auml;llig. Diese Eigenschaft quantifizieren wir durch die Zahl \n",
    "\n",
    " \\begin{equation}\n",
    " X(\\omega) := \\max\\{ k \\, : \\, k \\text{ aufeinander folgende Zahlen gehoeren zu } \\omega \\}\\, .\n",
    " \\end{equation}\n",
    " \n",
    "Explizite Formeln f&uuml;r die Wahrscheinlichkeiten\n",
    "\n",
    " \\begin{equation}\n",
    " p_X(k) = P\\big[ \\{ \\omega \\, : \\, X(\\omega) = k \\} \\big]\n",
    " \\end{equation}\n",
    " \n",
    " unter Gleichverteilung auf den $n$-wertigen Teilmengen von $\\{1,2,\\ldots,m\\}$ sind schwierig zu finden. Ein m&ouml;glicher Ausweg sind Monte Carlo Sch&auml;tzer. Dazu simuliert man $N_{\\mathrm{trials}}$ zuf&auml;llige $n$-elementige Teilmengen $\\{\\omega_1, \\ldots, \\omega_s\\}$ und berechnet die relativen H&auml;ufigkeiten\n",
    " \n",
    "  \\begin{equation}\n",
    " \\hat p_X(k) = \\frac{  \\big|\\{ 1 \\leq i \\leq N_{\\mathrm{trials}} \\, : \\, X(\\omega_i) = k \\}\\big| }{N_{\\mathrm{trials}}}\n",
    " \\end{equation}\n",
    " \n",
    "als Sch&auml;tzwert f&uuml;r die Wahrscheinlichkeiten $p_X(k)$.\n",
    "\n",
    "Erstellen Sie ein Program um ein Monte-Carlo Sch&auml;tzer f&uuml;r gegebeben $n$, $m$ und $N_{\\mathrm{trials}}$.\n",
    "\n",
    "Simulieren es f&uuml;r $n=10$, $m=40$, $N_{\\mathrm{trials}}=1000$ und stellen Sie $\\hat p_X$ jeweils graphisch dar."
   ]
  },
  {
   "cell_type": "code",
   "execution_count": 2,
   "metadata": {},
   "outputs": [],
   "source": [
    "# Fuegen Sie hier Ihre Loesung ein."
   ]
  }
 ],
 "metadata": {
  "anaconda-cloud": {},
  "kernelspec": {
   "display_name": "Python 3",
   "language": "python",
   "name": "python3"
  },
  "language_info": {
   "codemirror_mode": {
    "name": "ipython",
    "version": 3
   },
   "file_extension": ".py",
   "mimetype": "text/x-python",
   "name": "python",
   "nbconvert_exporter": "python",
   "pygments_lexer": "ipython3",
   "version": "3.7.4"
  }
 },
 "nbformat": 4,
 "nbformat_minor": 1
}
