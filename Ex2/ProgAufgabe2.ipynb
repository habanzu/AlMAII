{
 "cells": [
  {
   "cell_type": "markdown",
   "metadata": {},
   "source": [
    "## Programmieraufgabe 2  "
   ]
  },
  {
   "cell_type": "markdown",
   "metadata": {},
   "source": [
    "<span style=\"color:red; font-weight: bold\">Wichtig: Damit alle ben&ouml;tigten Pakete richtig eingebunden werden, f&uuml;hren Sie die n&auml;chste Zelle einmal aus, sobald Sie das Notebook neu &ouml;ffnen.</span>"
   ]
  },
  {
   "cell_type": "code",
   "execution_count": 2,
   "metadata": {},
   "outputs": [],
   "source": [
    "# some setup\n",
    "%matplotlib inline\n",
    "import numpy as np # makes numpy routines and data types available as np.[name ouf routine or data type]\n",
    "import matplotlib.pyplot as plt # makes plotting command available as plot.[name of command]\n",
    "\n",
    "from ipywidgets import interactive\n",
    "import random"
   ]
  },
  {
   "cell_type": "markdown",
   "metadata": {},
   "source": [
    "## W&uuml;rfeln II\n",
    "\n",
    "a)  Erzeugen Sie eine Liste mit $n = 100$ Zufallszahlen aus der Menge $\\{ 1,2,3,4,5,6 \\}$,\n",
    "und bestimmen Sie, wie oft die Zahl 3 in der Liste vorkommt. \n",
    "Welche Verteilung hat die Zufallsvariable $Z(\\omega)$, die dieses Zufallsexperiment modelliert?\n",
    "\n",
    "b)  Wir wiederholen das Experiment nun $m = 2000$ mal. \n",
    "Speichern  Sie  in  einer  Liste $z$ die beobachteten (relativen) H&auml;ufigkeiten der Zahl 3 in jeder der $m$ Stichproben von jeweils $n$ Zufallszahlen.\n",
    "\n",
    "c)  Die  Liste $z$ enth&auml;lt nun  $m$  (pseudozuf&auml;llige)  Realisierungen  der  Werte  der  Zufallsvariablen $Z$. \n",
    "Erstellen Sie ein Histogramm von $z$. \n",
    "Zeichnen Sie das Histogramm in  ein  Diagramm  zusammen  mit  der  Massenfunktion  der  Zufallsvariablen $Z$ \n",
    "und vergleichen Sie.\n",
    "\n",
    "d)  Erstellen Sie mithilfe von $\\texttt{interactive}$ ein entsprechendes Histogramm f&uuml;r die ersten\n",
    "$k$ Werte der Liste $z$, wobei $k$ zwischen 1 und $m$ variiert werden kann. Was beobachten Sie?"
   ]
  },
  {
   "cell_type": "code",
   "execution_count": 3,
   "metadata": {},
   "outputs": [],
   "source": [
    "import scipy.stats\n",
    "\n",
    "# Fuegen Sie hier Ihre Loesung ein."
   ]
  },
  {
   "cell_type": "code",
   "execution_count": null,
   "metadata": {},
   "outputs": [],
   "source": []
  }
 ],
 "metadata": {
  "anaconda-cloud": {},
  "kernelspec": {
   "display_name": "Python 3",
   "language": "python",
   "name": "python3"
  },
  "language_info": {
   "codemirror_mode": {
    "name": "ipython",
    "version": 3
   },
   "file_extension": ".py",
   "mimetype": "text/x-python",
   "name": "python",
   "nbconvert_exporter": "python",
   "pygments_lexer": "ipython3",
   "version": "3.7.4"
  }
 },
 "nbformat": 4,
 "nbformat_minor": 1
}
