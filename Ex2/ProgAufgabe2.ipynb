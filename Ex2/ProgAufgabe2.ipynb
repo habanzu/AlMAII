{
 "cells": [
  {
   "cell_type": "markdown",
   "metadata": {},
   "source": [
    "## Programmieraufgabe 2  "
   ]
  },
  {
   "cell_type": "markdown",
   "metadata": {},
   "source": [
    "<span style=\"color:red; font-weight: bold\">Wichtig: Damit alle ben&ouml;tigten Pakete richtig eingebunden werden, f&uuml;hren Sie die n&auml;chste Zelle einmal aus, sobald Sie das Notebook neu &ouml;ffnen.</span>"
   ]
  },
  {
   "cell_type": "code",
   "execution_count": 1,
   "metadata": {},
   "outputs": [],
   "source": [
    "# some setup\n",
    "%matplotlib inline\n",
    "import numpy as np # makes numpy routines and data types available as np.[name ouf routine or data type]\n",
    "import matplotlib.pyplot as plt # makes plotting command available as plot.[name of command]\n",
    "\n",
    "from ipywidgets import interactive\n",
    "import random"
   ]
  },
  {
   "cell_type": "markdown",
   "metadata": {},
   "source": [
    "## W&uuml;rfeln II\n",
    "\n",
    "a)  Erzeugen Sie eine Liste mit $n = 100$ Zufallszahlen aus der Menge $\\{ 1,2,3,4,5,6 \\}$,\n",
    "und bestimmen Sie, wie oft die Zahl 3 in der Liste vorkommt. \n",
    "Welche Verteilung hat die Zufallsvariable $Z(\\omega)$, die dieses Zufallsexperiment modelliert?\n",
    "\n",
    "b)  Wir wiederholen das Experiment nun $m = 2000$ mal. \n",
    "Speichern  Sie  in  einer  Liste $z$ die beobachteten (relativen) H&auml;ufigkeiten der Zahl 3 in jeder der $m$ Stichproben von jeweils $n$ Zufallszahlen.\n",
    "\n",
    "c)  Die  Liste $z$ enth&auml;lt nun  $m$  (pseudozuf&auml;llige)  Realisierungen  der  Werte  der  Zufallsvariablen $Z$. \n",
    "Erstellen Sie ein Histogramm von $z$. \n",
    "Zeichnen Sie das Histogramm in  ein  Diagramm  zusammen  mit  der  Massenfunktion  der  Zufallsvariablen $Z$ \n",
    "und vergleichen Sie.\n",
    "\n",
    "d)  Erstellen Sie mithilfe von $\\texttt{interactive}$ ein entsprechendes Histogramm f&uuml;r die ersten\n",
    "$k$ Werte der Liste $z$, wobei $k$ zwischen 1 und $m$ variiert werden kann. Was beobachten Sie?"
   ]
  },
  {
   "cell_type": "markdown",
   "metadata": {},
   "source": [
    "## a)"
   ]
  },
  {
   "cell_type": "code",
   "execution_count": 20,
   "metadata": {},
   "outputs": [
    {
     "name": "stdout",
     "output_type": "stream",
     "text": [
      "[10 11 21 20 20 18]\n",
      "Die Anzahl der 3en in diesen 100 Würfen ist: 21.\n"
     ]
    }
   ],
   "source": [
    "random.seed(\"Meinhardt\")\n",
    "x = [random.randint(1,6) for i in range(100)]\n",
    "histogram = np.histogram(x,bins=6)\n",
    "Z = histogram[0][2]\n",
    "print(histogram[0])\n",
    "print(f\"Die Anzahl der 3en in diesen 100 Würfen ist: {Z}.\")"
   ]
  },
  {
   "cell_type": "markdown",
   "metadata": {},
   "source": [
    "Die Zufallsvariable $Z(\\omega)$ ist Binomialverteilt zu den Parametern n = 100, $p = 1/6$"
   ]
  },
  {
   "cell_type": "markdown",
   "metadata": {},
   "source": [
    "## b) und c)"
   ]
  },
  {
   "cell_type": "code",
   "execution_count": 34,
   "metadata": {},
   "outputs": [
    {
     "data": {
      "image/png": "[encoded data removed]",
      "text/plain": [
       "<Figure size 1440x360 with 1 Axes>"
      ]
     },
     "metadata": {
      "needs_background": "light"
     },
     "output_type": "display_data"
    }
   ],
   "source": [
    "import scipy.stats\n",
    "plt.rcParams[\"figure.figsize\"] = (20,5)\n",
    "\n",
    "\n",
    "z = [np.histogram([random.randint(1,6) for j in range(100)],bins=6)[0][2] for i in range(2000)]\n",
    "histo = np.histogram(z,bins=100,range=(0,100),density=True)[0]\n",
    "plt.plot(histo,'o')\n",
    "dist = [scipy.stats.binom.pmf(i,100,1/6) for i in range(100)]\n",
    "#print(dist)\n",
    "plt.plot(dist)\n",
    "plt.legend(['Histogramm von Z','Dichtefunktion der Binomialverteilung'])\n",
    "plt.show()"
   ]
  },
  {
   "cell_type": "markdown",
   "metadata": {},
   "source": [
    "## d)\n"
   ]
  },
  {
   "cell_type": "code",
   "execution_count": 38,
   "metadata": {},
   "outputs": [
    {
     "data": {
      "application/vnd.jupyter.widget-view+json": {
       "model_id": "08b92c8cc4d9449aaaa5fc6d0ffb8a77",
       "version_major": 2,
       "version_minor": 0
      },
      "text/plain": [
       "interactive(children=(IntSlider(value=1000, description='k', max=2000), Button(description='Run Interact', sty…"
      ]
     },
     "metadata": {},
     "output_type": "display_data"
    },
    {
     "data": {
      "text/plain": [
       "<function __main__.hist(k)>"
      ]
     },
     "execution_count": 38,
     "metadata": {},
     "output_type": "execute_result"
    }
   ],
   "source": [
    "from ipywidgets import interact, interactive, IntSlider, interact_manual\n",
    "\n",
    "def hist(k):\n",
    "    histo = np.histogram(z[:k],bins=100,range=(0,100),density=True)[0]\n",
    "    plt.plot(histo,'o')\n",
    "    plt.plot(dist)\n",
    "    plt.legend(['Histogramm von Z','Dichtefunktion der Binomialverteilung'])\n",
    "\n",
    "interact_manual(hist, k=(0,2000))\n",
    "# Siehe Tutorial hier: https://ipywidgets.readthedocs.io/en/latest/examples/Using%20Interact.html#Basic-interact"
   ]
  },
  {
   "cell_type": "markdown",
   "metadata": {},
   "source": [
    "Für größere m sind die Abweichungen von der Dichtefunktion immer geringer."
   ]
  },
  {
   "cell_type": "code",
   "execution_count": null,
   "metadata": {},
   "outputs": [],
   "source": []
  }
 ],
 "metadata": {
  "anaconda-cloud": {},
  "kernelspec": {
   "display_name": "Python 3",
   "language": "python",
   "name": "python3"
  },
  "language_info": {
   "codemirror_mode": {
    "name": "ipython",
    "version": 3
   },
   "file_extension": ".py",
   "mimetype": "text/x-python",
   "name": "python",
   "nbconvert_exporter": "python",
   "pygments_lexer": "ipython3",
   "version": "3.9.5"
  }
 },
 "nbformat": 4,
 "nbformat_minor": 1
}
