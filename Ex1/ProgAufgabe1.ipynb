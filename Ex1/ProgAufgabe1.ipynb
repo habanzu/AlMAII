{
 "cells": [
  {
   "cell_type": "markdown",
   "metadata": {},
   "source": [
    "## Programmieraufgabe 1 "
   ]
  },
  {
   "cell_type": "markdown",
   "metadata": {},
   "source": [
    "<span style=\"color:red; font-weight: bold\">Wichtig: Damit alle ben&ouml;tigten Pakete richtig eingebunden werden, f&uuml;hren Sie die n&auml;chste Zelle einmal aus, sobald Sie das Notebook neu &ouml;ffnen.</span>"
   ]
  },
  {
   "cell_type": "code",
   "execution_count": 12,
   "metadata": {},
   "outputs": [],
   "source": [
    "# some setup\n",
    "import numpy as np # makes numpy routines and data types available as np.[name ouf routine or data type]\n",
    "import matplotlib.pyplot as plt # makes plotting command available as plt.[name of command]\n",
    "\n",
    "from ipywidgets import interact, interactive\n",
    "import random"
   ]
  },
  {
   "cell_type": "markdown",
   "metadata": {},
   "source": [
    "## W&uuml;rfeln I\n",
    "\n",
    "a) Um reproduzierbare Ergebnisse zu erhalten, initialisieren Sie den Zufallszahlengenerator  zun&auml;chst  mit\n",
    "$\\texttt{random.seed(\"Nachname\")}$, wobei  Sie  f&uuml;r Nachname Ihren eigenen Namen einsetzen.\n",
    "Erzeugen Sie dann eine Liste mit 1000 Zufallszahlen aus $\\{ 1,2,3,4,5,6\\}$,\n",
    "speichern Sie diese in der Variable $x$, und erstellen Sie mithilfe von $\\texttt{numpy.histogram()}$\n",
    "ein Histogramm der relativen H&auml;ufigkeiten der Werte 1 bis 6.\n",
    "Erzeugen Sie mithilfe von $\\texttt{interactive}$ ein Histogramm der ersten\n",
    "$k$ W&uuml;rfelw&uuml;rfe, wobei $k$\n",
    "zwischen 1 und 1000 variiert werden kann. Was beobachten Sie ?"
   ]
  },
  {
   "cell_type": "code",
   "execution_count": 25,
   "metadata": {},
   "outputs": [
    {
     "data": {
      "application/vnd.jupyter.widget-view+json": {
       "model_id": "47832aa88d374f0e8d46b989e4e44a27",
       "version_major": 2,
       "version_minor": 0
      },
      "text/plain": [
       "interactive(children=(IntSlider(value=1000, description='k', max=3000, min=-1000), Output()), _dom_classes=('w…"
      ]
     },
     "metadata": {},
     "output_type": "display_data"
    },
    {
     "data": {
      "text/plain": [
       "<function __main__.hist(k)>"
      ]
     },
     "execution_count": 25,
     "metadata": {},
     "output_type": "execute_result"
    }
   ],
   "source": [
    "random.seed(\"Meinhardt\")\n",
    "\n",
    "\n",
    "def hist(k):\n",
    "    x = [random.randint(1,6) for i in range(k)]\n",
    "    plt.plot(np.histogram(x,bins=6)[0],'o')\n",
    "    return k\n",
    "\n",
    "interact(hist, k=1000)\n",
    "# Siehe Tutorial hier: https://ipywidgets.readthedocs.io/en/latest/examples/Using%20Interact.html#Basic-interact\n"
   ]
  },
  {
   "cell_type": "markdown",
   "metadata": {},
   "source": [
    "b) Erstellen  Sie  die  Liste  der  relativen  H&auml;ufigkeiten $h_k$ der  Augenzahl  $6$  unter  den\n",
    "ersten $k$ W&uuml;rfen, $k = 1, \\ldots, 1000$. \n",
    "Plotten Sie $h_k$ als Funktion von $k$.\n",
    "Tragen Sie in den Plot auch die konstante Funktion mit Wert $1/6$ ein. \n",
    "K&ouml;nnen Sie Ihre Beobachtung aus dem ersten Teil best&auml;tigen ?"
   ]
  },
  {
   "cell_type": "code",
   "execution_count": null,
   "metadata": {},
   "outputs": [],
   "source": [
    "# Fuegen Sie hier Ihre Loesung ein.\n"
   ]
  }
 ],
 "metadata": {
  "anaconda-cloud": {},
  "kernelspec": {
   "display_name": "Python 3",
   "language": "python",
   "name": "python3"
  },
  "language_info": {
   "codemirror_mode": {
    "name": "ipython",
    "version": 3
   },
   "file_extension": ".py",
   "mimetype": "text/x-python",
   "name": "python",
   "nbconvert_exporter": "python",
   "pygments_lexer": "ipython3",
   "version": "3.9.4"
  }
 },
 "nbformat": 4,
 "nbformat_minor": 1
}
